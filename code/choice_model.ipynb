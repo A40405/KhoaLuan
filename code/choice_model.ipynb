{
 "cells": [
  {
   "cell_type": "markdown",
   "metadata": {
    "id": "fusU6Tc4f_2y"
   },
   "source": [
    "### import and read data"
   ]
  },
  {
   "cell_type": "code",
   "execution_count": 1,
   "metadata": {
    "executionInfo": {
     "elapsed": 6363,
     "status": "ok",
     "timestamp": 1714026672129,
     "user": {
      "displayName": "Anh AI",
      "userId": "13981975854155907732"
     },
     "user_tz": -420
    },
    "id": "xpEra3_y9H4F"
   },
   "outputs": [],
   "source": [
    "import json\n",
    "import math\n",
    "import os\n",
    "\n",
    "import numpy as np\n",
    "import pandas as pd\n",
    "from keras import layers\n",
    "from tensorflow import keras\n",
    "from keras.applications import DenseNet121\n",
    "from keras.callbacks import Callback, ModelCheckpoint\n",
    "from keras.preprocessing import image\n",
    "from keras.preprocessing.image import ImageDataGenerator\n",
    "from keras.models import Sequential\n",
    "from keras.optimizers import Adam\n",
    "import matplotlib.pyplot as plt\n",
    "import pandas as pd\n",
    "from sklearn.model_selection import train_test_split\n",
    "from sklearn.utils.class_weight import compute_class_weight\n",
    "from sklearn.metrics import cohen_kappa_score, accuracy_score\n",
    "import scipy\n",
    "import tensorflow as tf\n",
    "\n"
   ]
  },
  {
   "cell_type": "code",
   "execution_count": 2,
   "metadata": {},
   "outputs": [
    {
     "name": "stdout",
     "output_type": "stream",
     "text": [
      "GPU Device: GeForce RTX 2070\n"
     ]
    }
   ],
   "source": [
    "physical_devices = tf.config.experimental.list_physical_devices('GPU')\n",
    "\n",
    "if physical_devices:\n",
    "    # Nếu có GPU, in ra thông tin của từng GPU\n",
    "    for gpu in physical_devices:\n",
    "        # Lấy thông tin chi tiết của GPU\n",
    "        gpu_details = tf.config.experimental.get_device_details(gpu)\n",
    "        \n",
    "        # # In ra tên và dung lượng RAM của GPU\n",
    "        print(\"GPU Device:\", gpu_details[\"device_name\"])\n",
    "else:\n",
    "    print(\"No GPU available, TensorFlow is using CPU.\")\n"
   ]
  },
  {
   "cell_type": "code",
   "execution_count": 3,
   "metadata": {
    "colab": {
     "base_uri": "https://localhost:8080/"
    },
    "executionInfo": {
     "elapsed": 25943,
     "status": "ok",
     "timestamp": 1714026698067,
     "user": {
      "displayName": "Anh AI",
      "userId": "13981975854155907732"
     },
     "user_tz": -420
    },
    "id": "b3pzHdoV9Npk",
    "outputId": "3370f26b-cae8-4487-9c55-a62ab8353f6d"
   },
   "outputs": [],
   "source": [
    "\n",
    "# mount google drive\n",
    "WORK_PATH = 'C:/Users/ADMIN/Contacts/KLTN/data'\n",
    "SAVE_PATH = 'C:/Users/ADMIN/Contacts/KLTN/model'"
   ]
  },
  {
   "cell_type": "code",
   "execution_count": 4,
   "metadata": {
    "executionInfo": {
     "elapsed": 18,
     "status": "ok",
     "timestamp": 1714026698067,
     "user": {
      "displayName": "Anh AI",
      "userId": "13981975854155907732"
     },
     "user_tz": -420
    },
    "id": "F0e-pGkFfgne"
   },
   "outputs": [],
   "source": [
    "\n",
    "# batch_size = 16\n",
    "batch_size = 64\n",
    "IMG_HEIGHT = int(224)\n",
    "IMG_WIDTH = int(224)"
   ]
  },
  {
   "cell_type": "code",
   "execution_count": 5,
   "metadata": {},
   "outputs": [
    {
     "name": "stdout",
     "output_type": "stream",
     "text": [
      "Found 2305 images belonging to 5 classes.\n"
     ]
    }
   ],
   "source": [
    "train_image_generator = ImageDataGenerator(rescale=1./255) # Generator for our training data\n",
    "i_train = train_image_generator.flow_from_directory(batch_size=batch_size,\n",
    "                                                           directory=os.path.join(WORK_PATH,'train_balan'),\n",
    "                                                           shuffle=True,\n",
    "                                                           target_size=(IMG_HEIGHT, IMG_WIDTH))\n",
    "\n"
   ]
  },
  {
   "cell_type": "code",
   "execution_count": 6,
   "metadata": {},
   "outputs": [],
   "source": [
    "# columns = [\"model_name\", \"epoch\", \"loss\", \"accuracy\", \"val_loss\", \"val_accuracy\"]\n",
    "# df = pd.DataFrame(columns=columns)\n",
    "# df.to_csv(\"history_choice.csv\", index=False)\n",
    "# pd.read_csv('history_choice.csv')"
   ]
  },
  {
   "cell_type": "markdown",
   "metadata": {
    "jp-MarkdownHeadingCollapsed": true
   },
   "source": [
    "### VGG19"
   ]
  },
  {
   "cell_type": "code",
   "execution_count": 7,
   "metadata": {
    "executionInfo": {
     "elapsed": 17,
     "status": "ok",
     "timestamp": 1714026698068,
     "user": {
      "displayName": "Anh AI",
      "userId": "13981975854155907732"
     },
     "user_tz": -420
    },
    "id": "xgeczA8-9jfG"
   },
   "outputs": [],
   "source": [
    "def build_model_vgg19():\n",
    "    inputs = keras.layers.Input((IMG_HEIGHT,IMG_WIDTH,3), name='inputs')\n",
    "    model = keras.applications.VGG19(include_top= False, weights= 'imagenet', input_tensor= inputs)\n",
    "    x = model.output\n",
    "    x = keras.layers.Flatten(name='flatten')(x)\n",
    "    x = keras.layers.Dense(4096,activation = 'relu',name = 'dense_1')(x)\n",
    "    x = keras.layers.Dense(4096,activation = 'relu',name = 'dense_2')(x)\n",
    "    outputs = keras.layers.Dense(5,activation= 'softmax', name='dense_out')(x)\n",
    "    model = keras.Model(inputs=inputs, outputs = outputs,name=\"model_use_VGG19\")\n",
    "    return model"
   ]
  },
  {
   "cell_type": "code",
   "execution_count": null,
   "metadata": {},
   "outputs": [],
   "source": [
    "model = build_model_vgg19()\n",
    "# Biên dịch\n",
    "model.compile(optimizer= keras.optimizers.Adam(learning_rate=0.0001,\n",
    "                                                amsgrad=True),\n",
    "              loss='categorical_crossentropy',metrics='accuracy')\n",
    "\n",
    "# callbacks_1 = keras.callbacks.EarlyStopping(monitor=\"val_accuracy\",patience = 10,\n",
    "#                                           verbose=1,min_delta = 0.00001,\n",
    "#                                           restore_best_weights=True)\n",
    "\n",
    "callbacks_2 = keras.callbacks.ModelCheckpoint(\n",
    "    filepath=os.path.join(SAVE_PATH,'Model_VGG19_v1.h5'),\n",
    "    save_weights_only=True,\n",
    "    monitor='accuracy',\n",
    "    mode='max',\n",
    "    save_best_only=True)\n",
    "callbacks = [callbacks_2]\n",
    "#Training model\n",
    "history = model.fit(i_train,epochs = 30,callbacks = callbacks)\n"
   ]
  },
  {
   "cell_type": "code",
   "execution_count": null,
   "metadata": {},
   "outputs": [],
   "source": [
    "columns = [\"model_name\", \"epoch\", \"loss\", \"accuracy\", \"val_loss\", \"val_accuracy\"]\n",
    "history_df = pd.DataFrame(history.history)\n",
    "history_df['model_name'] = model.name\n",
    "history_df['epoch'] = history_df.index+1\n",
    "history_df= history_df.reindex(columns=columns)\n",
    "history_df.to_csv('history_choice.csv', index=False,mode='a',header = False)"
   ]
  },
  {
   "cell_type": "markdown",
   "metadata": {
    "jp-MarkdownHeadingCollapsed": true
   },
   "source": [
    "### VGG16"
   ]
  },
  {
   "cell_type": "code",
   "execution_count": null,
   "metadata": {},
   "outputs": [],
   "source": [
    "def build_model_vgg16():\n",
    "    inputs = keras.layers.Input((IMG_HEIGHT,IMG_WIDTH,3), name='inputs')\n",
    "    model = keras.applications.VGG16(include_top= False, weights= 'imagenet', input_tensor= inputs)\n",
    "    x = model.output\n",
    "    x = keras.layers.Flatten(name='flatten')(x)\n",
    "    x = keras.layers.Dense(4096,activation = 'relu',name = 'dense_1')(x)\n",
    "    x = keras.layers.Dense(4096,activation = 'relu',name = 'dense_2')(x)\n",
    "    outputs = keras.layers.Dense(5,activation= 'softmax', name='dense_out')(x)\n",
    "    model = keras.Model(inputs=inputs, outputs = outputs,name=\"model_use_VGG16\")\n",
    "    return model"
   ]
  },
  {
   "cell_type": "code",
   "execution_count": null,
   "metadata": {
    "colab": {
     "base_uri": "https://localhost:8080/"
    },
    "executionInfo": {
     "elapsed": 4292,
     "status": "ok",
     "timestamp": 1714026822453,
     "user": {
      "displayName": "Anh AI",
      "userId": "13981975854155907732"
     },
     "user_tz": -420
    },
    "id": "cB6lsXUA9prN",
    "outputId": "efeea9e6-ec88-4d8b-f077-0ddd790b5289"
   },
   "outputs": [],
   "source": [
    "model = build_model_vgg16()\n",
    "# Biên dịch\n",
    "model.compile(optimizer= keras.optimizers.Adam(learning_rate=0.0001,\n",
    "                                                amsgrad=True),\n",
    "              loss='categorical_crossentropy',metrics='accuracy')\n",
    "\n",
    "# callbacks_1 = keras.callbacks.EarlyStopping(monitor=\"val_accuracy\",patience = 10,\n",
    "#                                           verbose=1,min_delta = 0.00001,\n",
    "#                                           restore_best_weights=True)\n",
    "\n",
    "callbacks_2 = keras.callbacks.ModelCheckpoint(\n",
    "    filepath=os.path.join(SAVE_PATH,'Model_VGG16_v1.h5'),\n",
    "    save_weights_only=True,\n",
    "    monitor='accuracy',\n",
    "    mode='max',\n",
    "    save_best_only=True)\n",
    "callbacks = [callbacks_2]\n",
    "#Training model\n",
    "history = model.fit(i_train,epochs = 30,callbacks = callbacks)"
   ]
  },
  {
   "cell_type": "code",
   "execution_count": null,
   "metadata": {},
   "outputs": [],
   "source": [
    "columns = [\"model_name\", \"epoch\", \"loss\", \"accuracy\", \"val_loss\", \"val_accuracy\"]\n",
    "history_df = pd.DataFrame(history.history)\n",
    "history_df['model_name'] = model.name\n",
    "history_df['epoch'] = history_df.index+1\n",
    "history_df= history_df.reindex(columns=columns)\n",
    "history_df.to_csv('history_choice.csv', index=False,mode='a',header = False)"
   ]
  },
  {
   "cell_type": "markdown",
   "metadata": {
    "jp-MarkdownHeadingCollapsed": true
   },
   "source": [
    "### Resnet50"
   ]
  },
  {
   "cell_type": "code",
   "execution_count": 9,
   "metadata": {},
   "outputs": [],
   "source": [
    "def build_model_resnet50():\n",
    "    inputs = keras.layers.Input((IMG_HEIGHT,IMG_WIDTH,3), name='inputs')\n",
    "    model = keras.applications.resnet50.ResNet50(include_top= False, weights= 'imagenet', input_tensor= inputs)\n",
    "    x = model.output\n",
    "    x = keras.layers.GlobalAvgPool2D()(x)\n",
    "    x = keras.layers.Dropout(0.5)(x)\n",
    "    outputs = keras.layers.Dense(5,activation= 'softmax')(x)\n",
    "    model = keras.Model(inputs=inputs, outputs = outputs,name=\"model_use_ResNet50\")\n",
    "    # Đóng băng 1 phần mô hình\n",
    "    l = len(model.layers)\n",
    "    for i, layer in enumerate(model.layers):\n",
    "        if i <= 0.7*l: layer.trainable = False\n",
    "    return model\n",
    "\n"
   ]
  },
  {
   "cell_type": "code",
   "execution_count": null,
   "metadata": {},
   "outputs": [],
   "source": [
    "model = build_model_resnet50()\n",
    "# Biên dịch\n",
    "model.compile(optimizer= keras.optimizers.Adam(learning_rate=0.0001,\n",
    "                                                amsgrad=True),\n",
    "              loss='categorical_crossentropy',metrics='accuracy')\n",
    "\n",
    "# callbacks_1 = keras.callbacks.EarlyStopping(monitor=\"val_accuracy\",patience = 10,\n",
    "#                                           verbose=1,min_delta = 0.00001,\n",
    "#                                           restore_best_weights=True)\n",
    "\n",
    "callbacks_2 = keras.callbacks.ModelCheckpoint(\n",
    "    filepath=os.path.join(SAVE_PATH,'Model_resnet50_v1.h5'),\n",
    "    save_weights_only=True,\n",
    "    monitor='accuracy',\n",
    "    mode='max',\n",
    "    save_best_only=True)\n",
    "callbacks = [callbacks_2]\n",
    "#Training model\n",
    "\n"
   ]
  },
  {
   "cell_type": "code",
   "execution_count": null,
   "metadata": {},
   "outputs": [],
   "source": [
    "history = model.fit(i_train,epochs = 20,callbacks = callbacks)\n"
   ]
  },
  {
   "cell_type": "code",
   "execution_count": null,
   "metadata": {},
   "outputs": [],
   "source": [
    "columns = [\"model_name\", \"epoch\", \"loss\", \"accuracy\", \"val_loss\", \"val_accuracy\"]\n",
    "history_df = pd.DataFrame(history.history)\n",
    "history_df['model_name'] = model.name\n",
    "history_df['epoch'] = history_df.index+1\n",
    "history_df= history_df.reindex(columns=columns)\n",
    "history_df.to_csv('history_choice.csv', index=False,mode='a',header = False)"
   ]
  },
  {
   "cell_type": "code",
   "execution_count": null,
   "metadata": {
    "scrolled": true
   },
   "outputs": [],
   "source": [
    "history = model.fit(i_train,epochs = 50,callbacks = callbacks)\n"
   ]
  },
  {
   "cell_type": "code",
   "execution_count": null,
   "metadata": {},
   "outputs": [],
   "source": [
    "columns = [\"model_name\", \"epoch\", \"loss\", \"accuracy\", \"val_loss\", \"val_accuracy\"]\n",
    "history_df = pd.DataFrame(history.history)\n",
    "history_df['model_name'] = model.name\n",
    "history_df['epoch'] = history_df.index+21\n",
    "history_df= history_df.reindex(columns=columns)\n",
    "history_df.to_csv('history_choice.csv', index=False,mode='a',header = False)"
   ]
  },
  {
   "cell_type": "markdown",
   "metadata": {
    "jp-MarkdownHeadingCollapsed": true
   },
   "source": [
    "### Resnet101"
   ]
  },
  {
   "cell_type": "code",
   "execution_count": 11,
   "metadata": {},
   "outputs": [],
   "source": [
    "def build_model_resnet101():\n",
    "    inputs = keras.layers.Input((IMG_HEIGHT,IMG_WIDTH,3), name='inputs')\n",
    "    model = tf.keras.applications.ResNet101(include_top= False, weights= 'imagenet', input_tensor= inputs)\n",
    "    x = model.output\n",
    "    x = keras.layers.GlobalAvgPool2D()(x)\n",
    "    x = keras.layers.Dropout(0.7)(x)\n",
    "    outputs = keras.layers.Dense(5,activation= 'softmax')(x)\n",
    "    model = keras.Model(inputs=inputs, outputs = outputs,name=\"model_use_ResNet101\")\n",
    "    # Đóng băng 1 phần mô hình\n",
    "    l = len(model.layers)\n",
    "    for i, layer in enumerate(model.layers):\n",
    "        if i <= 0.8*l: layer.trainable = False\n",
    "    return model\n"
   ]
  },
  {
   "cell_type": "code",
   "execution_count": null,
   "metadata": {},
   "outputs": [],
   "source": [
    "model = build_model_resnet101()\n",
    "# Biên dịch\n",
    "model.compile(optimizer= keras.optimizers.Adam(learning_rate=0.0001,\n",
    "                                                amsgrad=True),\n",
    "              loss='categorical_crossentropy',metrics='accuracy')\n",
    "\n",
    "# callbacks_1 = keras.callbacks.EarlyStopping(monitor=\"val_accuracy\",patience = 10,\n",
    "#                                           verbose=1,min_delta = 0.00001,\n",
    "#                                           restore_best_weights=True)\n",
    "\n",
    "callbacks_2 = keras.callbacks.ModelCheckpoint(\n",
    "    filepath=os.path.join(SAVE_PATH,'Model_Resnet101_v1.h5'),\n",
    "    save_weights_only=True,\n",
    "    monitor='accuracy',\n",
    "    mode='max',\n",
    "    save_best_only=True)\n",
    "callbacks = [callbacks_2]\n",
    "#Training model\n",
    "\n"
   ]
  },
  {
   "cell_type": "code",
   "execution_count": 9,
   "metadata": {},
   "outputs": [
    {
     "name": "stdout",
     "output_type": "stream",
     "text": [
      "Epoch 1/70\n",
      "73/73 [==============================] - 23s 198ms/step - loss: 1.7479 - accuracy: 0.2095\n",
      "Epoch 2/70\n",
      "73/73 [==============================] - 18s 250ms/step - loss: 1.6023 - accuracy: 0.2651\n",
      "Epoch 3/70\n",
      "73/73 [==============================] - 19s 255ms/step - loss: 1.5558 - accuracy: 0.3098\n",
      "Epoch 4/70\n",
      "73/73 [==============================] - 13s 183ms/step - loss: 1.5463 - accuracy: 0.3046\n",
      "Epoch 5/70\n",
      "73/73 [==============================] - 19s 259ms/step - loss: 1.5008 - accuracy: 0.3197\n",
      "Epoch 6/70\n",
      "73/73 [==============================] - 13s 183ms/step - loss: 1.5106 - accuracy: 0.3128\n",
      "Epoch 7/70\n",
      "73/73 [==============================] - 19s 255ms/step - loss: 1.4891 - accuracy: 0.3310\n",
      "Epoch 8/70\n",
      "73/73 [==============================] - 19s 258ms/step - loss: 1.4687 - accuracy: 0.3341\n",
      "Epoch 9/70\n",
      "73/73 [==============================] - 18s 253ms/step - loss: 1.4449 - accuracy: 0.3631\n",
      "Epoch 10/70\n",
      "73/73 [==============================] - 13s 184ms/step - loss: 1.4349 - accuracy: 0.3627\n",
      "Epoch 11/70\n",
      "73/73 [==============================] - 14s 185ms/step - loss: 1.4091 - accuracy: 0.3631\n",
      "Epoch 12/70\n",
      "73/73 [==============================] - 19s 257ms/step - loss: 1.3954 - accuracy: 0.3852\n",
      "Epoch 13/70\n",
      "73/73 [==============================] - 13s 183ms/step - loss: 1.4007 - accuracy: 0.3831\n",
      "Epoch 14/70\n",
      "73/73 [==============================] - 18s 248ms/step - loss: 1.3738 - accuracy: 0.3987\n",
      "Epoch 15/70\n",
      "73/73 [==============================] - 19s 255ms/step - loss: 1.3652 - accuracy: 0.4043\n",
      "Epoch 16/70\n",
      "73/73 [==============================] - 19s 259ms/step - loss: 1.3338 - accuracy: 0.4139\n",
      "Epoch 17/70\n",
      "73/73 [==============================] - 19s 256ms/step - loss: 1.3253 - accuracy: 0.4330\n",
      "Epoch 18/70\n",
      "73/73 [==============================] - 19s 261ms/step - loss: 1.3235 - accuracy: 0.4338\n",
      "Epoch 19/70\n",
      "73/73 [==============================] - 13s 184ms/step - loss: 1.2813 - accuracy: 0.4334\n",
      "Epoch 20/70\n",
      "73/73 [==============================] - 18s 252ms/step - loss: 1.2923 - accuracy: 0.4469\n",
      "Epoch 21/70\n",
      "73/73 [==============================] - 13s 183ms/step - loss: 1.2899 - accuracy: 0.4464\n",
      "Epoch 22/70\n",
      "73/73 [==============================] - 18s 251ms/step - loss: 1.2282 - accuracy: 0.4733\n",
      "Epoch 23/70\n",
      "73/73 [==============================] - 19s 256ms/step - loss: 1.1770 - accuracy: 0.4915\n",
      "Epoch 24/70\n",
      "73/73 [==============================] - 18s 244ms/step - loss: 1.1970 - accuracy: 0.4950\n",
      "Epoch 25/70\n",
      "73/73 [==============================] - 18s 253ms/step - loss: 1.1851 - accuracy: 0.5093\n",
      "Epoch 26/70\n",
      "73/73 [==============================] - 19s 254ms/step - loss: 1.1408 - accuracy: 0.5210\n",
      "Epoch 27/70\n",
      "73/73 [==============================] - 19s 255ms/step - loss: 1.1062 - accuracy: 0.5367\n",
      "Epoch 28/70\n",
      "73/73 [==============================] - 18s 247ms/step - loss: 1.0669 - accuracy: 0.5540\n",
      "Epoch 29/70\n",
      "73/73 [==============================] - 19s 255ms/step - loss: 1.0189 - accuracy: 0.5679\n",
      "Epoch 30/70\n",
      "73/73 [==============================] - 18s 246ms/step - loss: 1.0247 - accuracy: 0.5792\n",
      "Epoch 31/70\n",
      "73/73 [==============================] - 18s 254ms/step - loss: 0.9970 - accuracy: 0.5961\n",
      "Epoch 32/70\n",
      "73/73 [==============================] - 19s 256ms/step - loss: 0.9349 - accuracy: 0.6143\n",
      "Epoch 33/70\n",
      "73/73 [==============================] - 19s 257ms/step - loss: 0.9053 - accuracy: 0.6451\n",
      "Epoch 34/70\n",
      "73/73 [==============================] - 19s 254ms/step - loss: 0.8521 - accuracy: 0.6694\n",
      "Epoch 35/70\n",
      "73/73 [==============================] - 13s 182ms/step - loss: 0.8607 - accuracy: 0.6594\n",
      "Epoch 36/70\n",
      "73/73 [==============================] - 13s 183ms/step - loss: 0.8557 - accuracy: 0.6525\n",
      "Epoch 37/70\n",
      "73/73 [==============================] - 18s 251ms/step - loss: 0.8307 - accuracy: 0.6790\n",
      "Epoch 38/70\n",
      "73/73 [==============================] - 18s 252ms/step - loss: 0.7267 - accuracy: 0.7080\n",
      "Epoch 39/70\n",
      "73/73 [==============================] - 13s 183ms/step - loss: 0.7431 - accuracy: 0.7067\n",
      "Epoch 40/70\n",
      "73/73 [==============================] - 19s 254ms/step - loss: 0.6599 - accuracy: 0.7367\n",
      "Epoch 41/70\n",
      "73/73 [==============================] - 19s 255ms/step - loss: 0.6665 - accuracy: 0.7423\n",
      "Epoch 42/70\n",
      "73/73 [==============================] - 18s 253ms/step - loss: 0.5948 - accuracy: 0.7692\n",
      "Epoch 43/70\n",
      "73/73 [==============================] - 18s 250ms/step - loss: 0.5490 - accuracy: 0.7835\n",
      "Epoch 44/70\n",
      "73/73 [==============================] - 13s 182ms/step - loss: 0.6354 - accuracy: 0.7505\n",
      "Epoch 45/70\n",
      "73/73 [==============================] - 18s 251ms/step - loss: 0.4979 - accuracy: 0.8121\n",
      "Epoch 46/70\n",
      "73/73 [==============================] - 19s 254ms/step - loss: 0.4738 - accuracy: 0.8182\n",
      "Epoch 47/70\n",
      "73/73 [==============================] - 18s 252ms/step - loss: 0.4474 - accuracy: 0.8377\n",
      "Epoch 48/70\n",
      "73/73 [==============================] - 13s 183ms/step - loss: 0.4322 - accuracy: 0.8325\n",
      "Epoch 49/70\n",
      "73/73 [==============================] - 13s 183ms/step - loss: 0.4810 - accuracy: 0.8152\n",
      "Epoch 50/70\n",
      "73/73 [==============================] - 19s 256ms/step - loss: 0.3762 - accuracy: 0.8564\n",
      "Epoch 51/70\n",
      "73/73 [==============================] - 19s 256ms/step - loss: 0.3499 - accuracy: 0.8668\n",
      "Epoch 52/70\n",
      "73/73 [==============================] - 19s 255ms/step - loss: 0.3385 - accuracy: 0.8733\n",
      "Epoch 53/70\n",
      "73/73 [==============================] - 18s 252ms/step - loss: 0.2913 - accuracy: 0.8972\n",
      "Epoch 54/70\n",
      "73/73 [==============================] - 13s 183ms/step - loss: 0.2877 - accuracy: 0.8959\n",
      "Epoch 55/70\n",
      "73/73 [==============================] - 13s 183ms/step - loss: 0.3563 - accuracy: 0.8742\n",
      "Epoch 56/70\n",
      "73/73 [==============================] - 13s 183ms/step - loss: 0.2892 - accuracy: 0.8946\n",
      "Epoch 57/70\n",
      "73/73 [==============================] - 19s 254ms/step - loss: 0.2223 - accuracy: 0.9236\n",
      "Epoch 58/70\n",
      "73/73 [==============================] - 13s 183ms/step - loss: 0.2232 - accuracy: 0.9219\n",
      "Epoch 59/70\n",
      "73/73 [==============================] - 14s 185ms/step - loss: 0.3150 - accuracy: 0.8833\n",
      "Epoch 60/70\n",
      "73/73 [==============================] - 18s 253ms/step - loss: 0.1943 - accuracy: 0.9302\n",
      "Epoch 61/70\n",
      "73/73 [==============================] - 19s 255ms/step - loss: 0.1840 - accuracy: 0.9328\n",
      "Epoch 62/70\n",
      "73/73 [==============================] - 13s 183ms/step - loss: 0.2948 - accuracy: 0.8885\n",
      "Epoch 63/70\n",
      "73/73 [==============================] - 19s 255ms/step - loss: 0.1569 - accuracy: 0.9501\n",
      "Epoch 64/70\n",
      "73/73 [==============================] - 13s 183ms/step - loss: 0.1541 - accuracy: 0.9492\n",
      "Epoch 65/70\n",
      "73/73 [==============================] - 13s 183ms/step - loss: 0.2191 - accuracy: 0.9223\n",
      "Epoch 66/70\n",
      "73/73 [==============================] - 13s 185ms/step - loss: 0.1800 - accuracy: 0.9349\n",
      "Epoch 67/70\n",
      "73/73 [==============================] - 18s 252ms/step - loss: 0.1465 - accuracy: 0.9518\n",
      "Epoch 68/70\n",
      "73/73 [==============================] - 19s 260ms/step - loss: 0.1322 - accuracy: 0.9597\n",
      "Epoch 69/70\n",
      "73/73 [==============================] - 13s 183ms/step - loss: 0.1457 - accuracy: 0.9488\n",
      "Epoch 70/70\n",
      "73/73 [==============================] - 13s 183ms/step - loss: 0.2312 - accuracy: 0.9202\n"
     ]
    }
   ],
   "source": [
    "history = model.fit(i_train,epochs = 70,callbacks = callbacks)\n"
   ]
  },
  {
   "cell_type": "code",
   "execution_count": 10,
   "metadata": {},
   "outputs": [],
   "source": [
    "columns = [\"model_name\", \"epoch\", \"loss\", \"accuracy\", \"val_loss\", \"val_accuracy\"]\n",
    "history_df = pd.DataFrame(history.history)\n",
    "history_df['model_name'] = model.name\n",
    "history_df['epoch'] = history_df.index+1\n",
    "history_df= history_df.reindex(columns=columns)\n",
    "history_df.to_csv('history_choice.csv', index=False,mode='a',header = False)"
   ]
  },
  {
   "cell_type": "code",
   "execution_count": 11,
   "metadata": {},
   "outputs": [
    {
     "data": {
      "text/html": [
       "<div>\n",
       "<style scoped>\n",
       "    .dataframe tbody tr th:only-of-type {\n",
       "        vertical-align: middle;\n",
       "    }\n",
       "\n",
       "    .dataframe tbody tr th {\n",
       "        vertical-align: top;\n",
       "    }\n",
       "\n",
       "    .dataframe thead th {\n",
       "        text-align: right;\n",
       "    }\n",
       "</style>\n",
       "<table border=\"1\" class=\"dataframe\">\n",
       "  <thead>\n",
       "    <tr style=\"text-align: right;\">\n",
       "      <th></th>\n",
       "      <th>model_name</th>\n",
       "      <th>epoch</th>\n",
       "      <th>loss</th>\n",
       "      <th>accuracy</th>\n",
       "      <th>val_loss</th>\n",
       "      <th>val_accuracy</th>\n",
       "    </tr>\n",
       "  </thead>\n",
       "  <tbody>\n",
       "    <tr>\n",
       "      <th>0</th>\n",
       "      <td>model_use_VGG19</td>\n",
       "      <td>1</td>\n",
       "      <td>1.677625</td>\n",
       "      <td>0.213449</td>\n",
       "      <td>NaN</td>\n",
       "      <td>NaN</td>\n",
       "    </tr>\n",
       "    <tr>\n",
       "      <th>1</th>\n",
       "      <td>model_use_VGG19</td>\n",
       "      <td>2</td>\n",
       "      <td>1.608900</td>\n",
       "      <td>0.206941</td>\n",
       "      <td>NaN</td>\n",
       "      <td>NaN</td>\n",
       "    </tr>\n",
       "    <tr>\n",
       "      <th>2</th>\n",
       "      <td>model_use_VGG19</td>\n",
       "      <td>3</td>\n",
       "      <td>1.608447</td>\n",
       "      <td>0.213449</td>\n",
       "      <td>NaN</td>\n",
       "      <td>NaN</td>\n",
       "    </tr>\n",
       "    <tr>\n",
       "      <th>3</th>\n",
       "      <td>model_use_VGG19</td>\n",
       "      <td>4</td>\n",
       "      <td>1.608480</td>\n",
       "      <td>0.211280</td>\n",
       "      <td>NaN</td>\n",
       "      <td>NaN</td>\n",
       "    </tr>\n",
       "    <tr>\n",
       "      <th>4</th>\n",
       "      <td>model_use_VGG19</td>\n",
       "      <td>5</td>\n",
       "      <td>1.608510</td>\n",
       "      <td>0.210412</td>\n",
       "      <td>NaN</td>\n",
       "      <td>NaN</td>\n",
       "    </tr>\n",
       "    <tr>\n",
       "      <th>...</th>\n",
       "      <td>...</td>\n",
       "      <td>...</td>\n",
       "      <td>...</td>\n",
       "      <td>...</td>\n",
       "      <td>...</td>\n",
       "      <td>...</td>\n",
       "    </tr>\n",
       "    <tr>\n",
       "      <th>195</th>\n",
       "      <td>model_use_ResNet101</td>\n",
       "      <td>66</td>\n",
       "      <td>0.179961</td>\n",
       "      <td>0.934924</td>\n",
       "      <td>NaN</td>\n",
       "      <td>NaN</td>\n",
       "    </tr>\n",
       "    <tr>\n",
       "      <th>196</th>\n",
       "      <td>model_use_ResNet101</td>\n",
       "      <td>67</td>\n",
       "      <td>0.146534</td>\n",
       "      <td>0.951844</td>\n",
       "      <td>NaN</td>\n",
       "      <td>NaN</td>\n",
       "    </tr>\n",
       "    <tr>\n",
       "      <th>197</th>\n",
       "      <td>model_use_ResNet101</td>\n",
       "      <td>68</td>\n",
       "      <td>0.132230</td>\n",
       "      <td>0.959653</td>\n",
       "      <td>NaN</td>\n",
       "      <td>NaN</td>\n",
       "    </tr>\n",
       "    <tr>\n",
       "      <th>198</th>\n",
       "      <td>model_use_ResNet101</td>\n",
       "      <td>69</td>\n",
       "      <td>0.145685</td>\n",
       "      <td>0.948807</td>\n",
       "      <td>NaN</td>\n",
       "      <td>NaN</td>\n",
       "    </tr>\n",
       "    <tr>\n",
       "      <th>199</th>\n",
       "      <td>model_use_ResNet101</td>\n",
       "      <td>70</td>\n",
       "      <td>0.231203</td>\n",
       "      <td>0.920174</td>\n",
       "      <td>NaN</td>\n",
       "      <td>NaN</td>\n",
       "    </tr>\n",
       "  </tbody>\n",
       "</table>\n",
       "<p>200 rows × 6 columns</p>\n",
       "</div>"
      ],
      "text/plain": [
       "              model_name  epoch      loss  accuracy  val_loss  val_accuracy\n",
       "0        model_use_VGG19      1  1.677625  0.213449       NaN           NaN\n",
       "1        model_use_VGG19      2  1.608900  0.206941       NaN           NaN\n",
       "2        model_use_VGG19      3  1.608447  0.213449       NaN           NaN\n",
       "3        model_use_VGG19      4  1.608480  0.211280       NaN           NaN\n",
       "4        model_use_VGG19      5  1.608510  0.210412       NaN           NaN\n",
       "..                   ...    ...       ...       ...       ...           ...\n",
       "195  model_use_ResNet101     66  0.179961  0.934924       NaN           NaN\n",
       "196  model_use_ResNet101     67  0.146534  0.951844       NaN           NaN\n",
       "197  model_use_ResNet101     68  0.132230  0.959653       NaN           NaN\n",
       "198  model_use_ResNet101     69  0.145685  0.948807       NaN           NaN\n",
       "199  model_use_ResNet101     70  0.231203  0.920174       NaN           NaN\n",
       "\n",
       "[200 rows x 6 columns]"
      ]
     },
     "execution_count": 11,
     "metadata": {},
     "output_type": "execute_result"
    }
   ],
   "source": [
    "pd.read_csv('history_choice.csv')"
   ]
  },
  {
   "cell_type": "markdown",
   "metadata": {
    "jp-MarkdownHeadingCollapsed": true
   },
   "source": [
    "### Vgg19_v2"
   ]
  },
  {
   "cell_type": "code",
   "execution_count": 6,
   "metadata": {},
   "outputs": [],
   "source": [
    "def vgg19_return():\n",
    "    inputs = keras.layers.Input((IMG_HEIGHT,IMG_WIDTH,3), name='inputs')\n",
    "    model = keras.applications.VGG19(include_top= False, weights= 'imagenet', input_tensor= inputs)\n",
    "    x = model.output\n",
    "    x = keras.layers.Flatten()(x)\n",
    "    x = keras.layers.Dense(256, activation='relu', name='dense_6')(x)\n",
    "    x = keras.layers.Dense(128, activation='relu', name='dense_7')(x)\n",
    "    x = keras.layers.Dense(64, activation='relu', name='dense_8')(x)\n",
    "    x = keras.layers.Dense(32, activation='relu', name='dense_9')(x)\n",
    "    x = keras.layers.Dropout(0.5)(x)\n",
    "    outputs = keras.layers.Dense(5,activation= 'softmax', name='dense_out')(x)\n",
    "    model = keras.Model(inputs=inputs, outputs = outputs,name=\"model_use_VGG19_addDense256-128-64-32\")\n",
    "    l = len(model.layers)\n",
    "    for i, layer in enumerate(model.layers):\n",
    "        if i <= 0.5*l: layer.trainable = False\n",
    "    model.compile(optimizer= keras.optimizers.Adam(learning_rate=0.0001,\n",
    "                                                amsgrad=True),\n",
    "              loss='categorical_crossentropy',metrics='accuracy')\n",
    "    return model"
   ]
  },
  {
   "cell_type": "code",
   "execution_count": 7,
   "metadata": {},
   "outputs": [
    {
     "data": {
      "text/plain": [
       "'Flatten, Dense 256-128-64-32, Dropout(0.5)'"
      ]
     },
     "execution_count": 7,
     "metadata": {},
     "output_type": "execute_result"
    }
   ],
   "source": [
    "\"Flatten, Dense 256-128-64-32, Dropout(0.5)\""
   ]
  },
  {
   "cell_type": "code",
   "execution_count": 126,
   "metadata": {},
   "outputs": [
    {
     "name": "stdout",
     "output_type": "stream",
     "text": [
      "Found 2305 images belonging to 5 classes.\n"
     ]
    }
   ],
   "source": [
    "train_image_generator = ImageDataGenerator(horizontal_flip=True, vertical_flip=True, rescale=1./255) # Generator for our training data\n",
    "i_train = train_image_generator.flow_from_directory(batch_size=batch_size,\n",
    "                                                           directory=os.path.join(WORK_PATH,'train_balan'),\n",
    "                                                           shuffle=True,\n",
    "                                                           target_size=(IMG_HEIGHT, IMG_WIDTH))\n",
    "\n"
   ]
  },
  {
   "cell_type": "code",
   "execution_count": 129,
   "metadata": {},
   "outputs": [],
   "source": [
    "model = vgg19_return()\n",
    "callbacks_1 = keras.callbacks.EarlyStopping(monitor=\"accuracy\",patience = 10,\n",
    "                                          verbose=1,min_delta = 0.00001,\n",
    "                                          restore_best_weights=True)\n",
    "\n",
    "callbacks_2 = keras.callbacks.ModelCheckpoint(\n",
    "    filepath=os.path.join(SAVE_PATH,'Model_VGG19_v1_2.h5'),\n",
    "    save_weights_only=True,\n",
    "    monitor='accuracy',\n",
    "    mode='max',\n",
    "    save_best_only=True)\n",
    "callbacks = [callbacks_2]\n",
    "\n"
   ]
  },
  {
   "cell_type": "code",
   "execution_count": 130,
   "metadata": {},
   "outputs": [
    {
     "name": "stdout",
     "output_type": "stream",
     "text": [
      "Epoch 1/100\n",
      "37/37 [==============================] - 15s 384ms/step - loss: 1.6240 - accuracy: 0.2143\n",
      "Epoch 2/100\n",
      "37/37 [==============================] - 13s 357ms/step - loss: 1.5856 - accuracy: 0.2568\n",
      "Epoch 3/100\n",
      "37/37 [==============================] - 13s 358ms/step - loss: 1.5272 - accuracy: 0.2885\n",
      "Epoch 4/100\n",
      "37/37 [==============================] - 14s 377ms/step - loss: 1.5052 - accuracy: 0.3072\n",
      "Epoch 5/100\n",
      "37/37 [==============================] - 13s 357ms/step - loss: 1.4372 - accuracy: 0.3492\n",
      "Epoch 6/100\n",
      "37/37 [==============================] - 13s 350ms/step - loss: 1.4317 - accuracy: 0.3367\n",
      "Epoch 7/100\n",
      "37/37 [==============================] - 13s 339ms/step - loss: 1.4399 - accuracy: 0.3423\n",
      "Epoch 8/100\n",
      "37/37 [==============================] - 13s 360ms/step - loss: 1.3733 - accuracy: 0.3562\n",
      "Epoch 9/100\n",
      "37/37 [==============================] - 13s 362ms/step - loss: 1.3619 - accuracy: 0.3731\n",
      "Epoch 10/100\n",
      "37/37 [==============================] - 13s 363ms/step - loss: 1.3351 - accuracy: 0.4039\n",
      "Epoch 11/100\n",
      "37/37 [==============================] - 13s 345ms/step - loss: 1.3032 - accuracy: 0.4004\n",
      "Epoch 12/100\n",
      "37/37 [==============================] - 13s 340ms/step - loss: 1.5020 - accuracy: 0.3115\n",
      "Epoch 13/100\n",
      "37/37 [==============================] - 13s 337ms/step - loss: 1.3277 - accuracy: 0.3944\n",
      "Epoch 14/100\n",
      "37/37 [==============================] - 14s 366ms/step - loss: 1.3318 - accuracy: 0.4052\n",
      "Epoch 15/100\n",
      "37/37 [==============================] - 13s 358ms/step - loss: 1.2844 - accuracy: 0.4126\n",
      "Epoch 16/100\n",
      "37/37 [==============================] - 13s 358ms/step - loss: 1.2595 - accuracy: 0.4243\n",
      "Epoch 17/100\n",
      "37/37 [==============================] - 13s 337ms/step - loss: 1.2746 - accuracy: 0.4239\n",
      "Epoch 18/100\n",
      "37/37 [==============================] - 13s 358ms/step - loss: 1.2296 - accuracy: 0.4486\n",
      "Epoch 19/100\n",
      "37/37 [==============================] - 12s 335ms/step - loss: 1.2226 - accuracy: 0.4469\n",
      "Epoch 20/100\n",
      "37/37 [==============================] - 13s 338ms/step - loss: 1.2414 - accuracy: 0.4304\n",
      "Epoch 21/100\n",
      "37/37 [==============================] - 13s 337ms/step - loss: 1.2978 - accuracy: 0.4087\n",
      "Epoch 22/100\n",
      "37/37 [==============================] - 13s 337ms/step - loss: 1.2572 - accuracy: 0.4356\n",
      "Epoch 23/100\n",
      "37/37 [==============================] - 13s 361ms/step - loss: 1.1701 - accuracy: 0.4820\n",
      "Epoch 24/100\n",
      "37/37 [==============================] - 13s 338ms/step - loss: 1.1711 - accuracy: 0.4751\n",
      "Epoch 25/100\n",
      "37/37 [==============================] - 13s 338ms/step - loss: 1.1284 - accuracy: 0.4716\n",
      "Epoch 26/100\n",
      "37/37 [==============================] - 14s 364ms/step - loss: 1.1555 - accuracy: 0.4985\n",
      "Epoch 27/100\n",
      "37/37 [==============================] - 13s 337ms/step - loss: 1.1228 - accuracy: 0.4941\n",
      "Epoch 28/100\n",
      "37/37 [==============================] - 13s 337ms/step - loss: 1.1290 - accuracy: 0.4928\n",
      "Epoch 29/100\n",
      "37/37 [==============================] - 13s 337ms/step - loss: 1.1516 - accuracy: 0.4655\n",
      "Epoch 30/100\n",
      "37/37 [==============================] - 13s 337ms/step - loss: 1.1364 - accuracy: 0.4907\n",
      "Epoch 31/100\n",
      "37/37 [==============================] - 13s 337ms/step - loss: 1.1844 - accuracy: 0.4651\n",
      "Epoch 32/100\n",
      "37/37 [==============================] - 13s 338ms/step - loss: 1.3670 - accuracy: 0.3839\n",
      "Epoch 33/100\n",
      "37/37 [==============================] - 13s 337ms/step - loss: 1.1728 - accuracy: 0.4568\n",
      "Epoch 34/100\n",
      "37/37 [==============================] - 13s 337ms/step - loss: 1.1628 - accuracy: 0.4707\n",
      "Epoch 35/100\n",
      "37/37 [==============================] - 13s 337ms/step - loss: 1.1546 - accuracy: 0.4846\n",
      "Epoch 36/100\n",
      "37/37 [==============================] - 13s 337ms/step - loss: 1.1047 - accuracy: 0.4937\n",
      "Epoch 37/100\n",
      "37/37 [==============================] - 13s 353ms/step - loss: 1.0386 - accuracy: 0.5206\n",
      "Epoch 38/100\n",
      "37/37 [==============================] - 14s 365ms/step - loss: 1.0010 - accuracy: 0.5427\n",
      "Epoch 39/100\n",
      "37/37 [==============================] - 13s 337ms/step - loss: 1.2522 - accuracy: 0.4681\n",
      "Epoch 40/100\n",
      "37/37 [==============================] - 13s 337ms/step - loss: 1.3312 - accuracy: 0.3922\n",
      "Epoch 41/100\n",
      "37/37 [==============================] - 13s 337ms/step - loss: 1.2133 - accuracy: 0.4672\n",
      "Epoch 42/100\n",
      "37/37 [==============================] - 13s 337ms/step - loss: 1.1334 - accuracy: 0.4846\n",
      "Epoch 43/100\n",
      "37/37 [==============================] - 13s 337ms/step - loss: 1.0806 - accuracy: 0.5102\n",
      "Epoch 44/100\n",
      "37/37 [==============================] - 13s 338ms/step - loss: 1.1533 - accuracy: 0.4998\n",
      "Epoch 45/100\n",
      "37/37 [==============================] - 13s 338ms/step - loss: 1.1219 - accuracy: 0.4998\n",
      "Epoch 46/100\n",
      "37/37 [==============================] - 13s 338ms/step - loss: 1.0623 - accuracy: 0.5171\n",
      "Epoch 47/100\n",
      "37/37 [==============================] - 13s 356ms/step - loss: 1.0005 - accuracy: 0.5557\n",
      "Epoch 48/100\n",
      "37/37 [==============================] - 13s 356ms/step - loss: 0.9398 - accuracy: 0.5709\n",
      "Epoch 49/100\n",
      "37/37 [==============================] - 13s 337ms/step - loss: 1.0133 - accuracy: 0.5414\n",
      "Epoch 50/100\n",
      "37/37 [==============================] - 13s 336ms/step - loss: 1.0230 - accuracy: 0.5176\n",
      "Epoch 51/100\n",
      "37/37 [==============================] - 13s 337ms/step - loss: 1.0296 - accuracy: 0.5189\n",
      "Epoch 52/100\n",
      "37/37 [==============================] - 13s 338ms/step - loss: 0.9228 - accuracy: 0.5696\n",
      "Epoch 53/100\n",
      "37/37 [==============================] - 13s 357ms/step - loss: 0.9057 - accuracy: 0.5753\n",
      "Epoch 54/100\n",
      "37/37 [==============================] - 13s 338ms/step - loss: 0.9347 - accuracy: 0.5683\n",
      "Epoch 55/100\n",
      "37/37 [==============================] - 14s 369ms/step - loss: 0.8806 - accuracy: 0.5892\n",
      "Epoch 56/100\n",
      "37/37 [==============================] - 13s 337ms/step - loss: 1.0831 - accuracy: 0.5488\n",
      "Epoch 57/100\n",
      "37/37 [==============================] - 13s 337ms/step - loss: 1.1585 - accuracy: 0.4959\n",
      "Epoch 58/100\n",
      "37/37 [==============================] - 13s 338ms/step - loss: 1.0658 - accuracy: 0.5236\n",
      "Epoch 59/100\n",
      "37/37 [==============================] - 13s 338ms/step - loss: 1.0295 - accuracy: 0.5479\n",
      "Epoch 60/100\n",
      "37/37 [==============================] - 13s 347ms/step - loss: 1.0428 - accuracy: 0.5449\n",
      "Epoch 61/100\n",
      "37/37 [==============================] - 13s 338ms/step - loss: 0.9259 - accuracy: 0.5792\n",
      "Epoch 62/100\n",
      "37/37 [==============================] - 13s 356ms/step - loss: 0.8708 - accuracy: 0.5935\n",
      "Epoch 63/100\n",
      "37/37 [==============================] - 13s 356ms/step - loss: 0.8390 - accuracy: 0.6278\n",
      "Epoch 64/100\n",
      "37/37 [==============================] - 13s 337ms/step - loss: 0.8584 - accuracy: 0.6278\n",
      "Epoch 65/100\n",
      "37/37 [==============================] - 13s 338ms/step - loss: 0.8909 - accuracy: 0.5991\n",
      "Epoch 66/100\n",
      "37/37 [==============================] - 13s 337ms/step - loss: 0.8397 - accuracy: 0.6269\n",
      "Epoch 67/100\n",
      "37/37 [==============================] - 13s 357ms/step - loss: 0.7647 - accuracy: 0.6581\n",
      "Epoch 68/100\n",
      "37/37 [==============================] - 13s 357ms/step - loss: 0.7237 - accuracy: 0.6751\n",
      "Epoch 69/100\n",
      "37/37 [==============================] - 13s 337ms/step - loss: 0.7185 - accuracy: 0.6711\n",
      "Epoch 70/100\n",
      "37/37 [==============================] - 13s 337ms/step - loss: 0.8052 - accuracy: 0.6308\n",
      "Epoch 71/100\n",
      "37/37 [==============================] - 13s 336ms/step - loss: 0.7607 - accuracy: 0.6551\n",
      "Epoch 72/100\n",
      "37/37 [==============================] - 13s 338ms/step - loss: 1.1494 - accuracy: 0.5067\n",
      "Epoch 73/100\n",
      "37/37 [==============================] - 13s 338ms/step - loss: 0.9076 - accuracy: 0.5844\n",
      "Epoch 74/100\n",
      "37/37 [==============================] - 13s 337ms/step - loss: 0.7757 - accuracy: 0.6373\n",
      "Epoch 75/100\n",
      "37/37 [==============================] - 13s 338ms/step - loss: 0.7425 - accuracy: 0.6538\n",
      "Epoch 76/100\n",
      "37/37 [==============================] - 13s 338ms/step - loss: 0.7701 - accuracy: 0.6447\n",
      "Epoch 77/100\n",
      "37/37 [==============================] - 13s 358ms/step - loss: 0.7045 - accuracy: 0.6833\n",
      "Epoch 78/100\n",
      "37/37 [==============================] - 13s 361ms/step - loss: 0.6518 - accuracy: 0.7072\n",
      "Epoch 79/100\n",
      "37/37 [==============================] - 13s 337ms/step - loss: 0.6574 - accuracy: 0.6837\n",
      "Epoch 80/100\n",
      "37/37 [==============================] - 13s 361ms/step - loss: 0.6189 - accuracy: 0.7102\n",
      "Epoch 81/100\n",
      "37/37 [==============================] - 13s 356ms/step - loss: 0.6646 - accuracy: 0.7106\n",
      "Epoch 82/100\n",
      "37/37 [==============================] - 13s 338ms/step - loss: 0.8193 - accuracy: 0.6330\n",
      "Epoch 83/100\n",
      "37/37 [==============================] - 13s 338ms/step - loss: 0.6949 - accuracy: 0.6816\n",
      "Epoch 84/100\n",
      "37/37 [==============================] - 13s 337ms/step - loss: 0.6468 - accuracy: 0.6963\n",
      "Epoch 85/100\n",
      "37/37 [==============================] - 13s 357ms/step - loss: 0.6254 - accuracy: 0.7223\n",
      "Epoch 86/100\n",
      "37/37 [==============================] - 13s 357ms/step - loss: 0.6073 - accuracy: 0.7297\n",
      "Epoch 87/100\n",
      "37/37 [==============================] - 13s 337ms/step - loss: 0.6426 - accuracy: 0.7098\n",
      "Epoch 88/100\n",
      "37/37 [==============================] - 13s 356ms/step - loss: 0.5271 - accuracy: 0.7592\n",
      "Epoch 89/100\n",
      "37/37 [==============================] - 13s 338ms/step - loss: 0.5695 - accuracy: 0.7384\n",
      "Epoch 90/100\n",
      "37/37 [==============================] - 13s 338ms/step - loss: 0.5699 - accuracy: 0.7388\n",
      "Epoch 91/100\n",
      "37/37 [==============================] - 13s 357ms/step - loss: 0.5281 - accuracy: 0.7597\n",
      "Epoch 92/100\n",
      "37/37 [==============================] - 13s 362ms/step - loss: 0.4775 - accuracy: 0.7826\n",
      "Epoch 93/100\n",
      "37/37 [==============================] - 13s 338ms/step - loss: 0.8134 - accuracy: 0.6668\n",
      "Epoch 94/100\n",
      "37/37 [==============================] - 13s 337ms/step - loss: 0.8822 - accuracy: 0.6243\n",
      "Epoch 95/100\n",
      "37/37 [==============================] - 13s 337ms/step - loss: 0.7006 - accuracy: 0.7007\n",
      "Epoch 96/100\n",
      "37/37 [==============================] - 13s 337ms/step - loss: 0.6365 - accuracy: 0.7310\n",
      "Epoch 97/100\n",
      "37/37 [==============================] - 13s 337ms/step - loss: 0.5852 - accuracy: 0.7380\n",
      "Epoch 98/100\n",
      "37/37 [==============================] - 13s 338ms/step - loss: 0.5386 - accuracy: 0.7570\n",
      "Epoch 99/100\n",
      "37/37 [==============================] - 13s 338ms/step - loss: 0.5111 - accuracy: 0.7662\n",
      "Epoch 100/100\n",
      "37/37 [==============================] - 13s 338ms/step - loss: 1.4911 - accuracy: 0.4130\n"
     ]
    }
   ],
   "source": [
    "history = model.fit(i_train,epochs = 100,callbacks = callbacks)\n"
   ]
  },
  {
   "cell_type": "code",
   "execution_count": 131,
   "metadata": {},
   "outputs": [],
   "source": [
    "columns = [\"model_name\", \"epoch\", \"loss\", \"accuracy\", \"val_loss\", \"val_accuracy\"]\n",
    "history_df = pd.DataFrame(history.history)\n",
    "history_df['model_name'] = model.name\n",
    "history_df['epoch'] = history_df.index+1\n",
    "history_df= history_df.reindex(columns=columns)\n",
    "history_df.to_csv('history_choice.csv', index=False,mode='a',header = False)"
   ]
  },
  {
   "cell_type": "code",
   "execution_count": null,
   "metadata": {},
   "outputs": [],
   "source": [
    "# # luư lịch sử chạy các model\n",
    "# columns = [\"model_name\",\"layer\",\"fold\", \"epoch\", \"loss\", \"accuracy\", \"val_loss\", \"val_accuracy\"]\n",
    "# df = pd.DataFrame(columns=columns)\n",
    "# df.to_csv(\"history_fit.csv\", index=False)\n",
    "# pd.read_csv('history_fit.csv')"
   ]
  },
  {
   "cell_type": "code",
   "execution_count": null,
   "metadata": {},
   "outputs": [],
   "source": [
    "test_image_generator = ImageDataGenerator(rescale=1./255)\n",
    "\n",
    "i_test = test_image_generator.flow_from_directory(batch_size=batch_size,\n",
    "                                                           directory=os.path.join(WORK_PATH,'test'),\n",
    "                                                           shuffle=True,\n",
    "                                                           target_size=(IMG_HEIGHT, IMG_WIDTH))\n",
    "result = model.evaluate(i_test)"
   ]
  }
 ],
 "metadata": {
  "accelerator": "GPU",
  "colab": {
   "gpuType": "T4",
   "provenance": []
  },
  "kernelspec": {
   "display_name": "Python 3 (ipykernel)",
   "language": "python",
   "name": "python3"
  },
  "language_info": {
   "codemirror_mode": {
    "name": "ipython",
    "version": 3
   },
   "file_extension": ".py",
   "mimetype": "text/x-python",
   "name": "python",
   "nbconvert_exporter": "python",
   "pygments_lexer": "ipython3",
   "version": "3.9.19"
  }
 },
 "nbformat": 4,
 "nbformat_minor": 4
}
